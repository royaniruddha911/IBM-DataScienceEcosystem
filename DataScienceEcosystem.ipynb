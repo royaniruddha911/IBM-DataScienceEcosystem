{
 "cells": [
  {
   "cell_type": "markdown",
   "id": "83583c00",
   "metadata": {},
   "source": [
    "# Data Science Tools and Ecosystem\n"
   ]
  },
  {
   "cell_type": "markdown",
   "id": "1e8a5bcc",
   "metadata": {},
   "source": [
    "In this notebook, Data Science Tools and Ecosystem are summarized."
   ]
  },
  {
   "cell_type": "markdown",
   "id": "58367363",
   "metadata": {},
   "source": [
    "Some of the popular languages that Data Scientists use are:\n",
    "\n",
    "    1. Python \n",
    "    \n",
    "    2. R \n",
    "    \n",
    "    3. Julia \n",
    "    \n",
    "    4. SQL"
   ]
  },
  {
   "cell_type": "markdown",
   "id": "4d752933",
   "metadata": {},
   "source": [
    "Some of the commonly used libraries used by Data Scientists include:\n",
    "\n",
    "    1. NumPy\n",
    "    \n",
    "    2. SciPy\n",
    "    \n",
    "    3. Pandas\n",
    "    \n",
    "    4. PyTorch\n",
    "    \n",
    "    5. Scikit-Learn\n",
    "    \n",
    "    6. Keras\n",
    "    \n",
    "    7. TensorFlow\n",
    "    \n",
    "    8. Matplotlib"
   ]
  },
  {
   "cell_type": "markdown",
   "id": "e3fdfefc",
   "metadata": {},
   "source": [
    "| Data Science Tools |\n",
    "|--------------------|\n",
    "| Jupyter Notebook   |\n",
    "| Spyder             |\n",
    "| Rstudio            |\n",
    "| Visual Studio Code |\n",
    "| IBM Watson Studio  |\n",
    "| Google Colab       |\n"
   ]
  },
  {
   "cell_type": "markdown",
   "id": "6e6bc445",
   "metadata": {},
   "source": [
    "### Below are a few examples of evaluating arithmetic expressions in Python"
   ]
  },
  {
   "cell_type": "code",
   "execution_count": 4,
   "id": "cdb9653e",
   "metadata": {},
   "outputs": [
    {
     "data": {
      "text/plain": [
       "17"
      ]
     },
     "execution_count": 4,
     "metadata": {},
     "output_type": "execute_result"
    }
   ],
   "source": [
    "# This a simple arithmetic expression to mutiply then add integers\n",
    "(3*4)+5"
   ]
  },
  {
   "cell_type": "code",
   "execution_count": 5,
   "id": "ca725819",
   "metadata": {},
   "outputs": [
    {
     "name": "stdout",
     "output_type": "stream",
     "text": [
      "3.3333333333333335\n"
     ]
    }
   ],
   "source": [
    "# This will convert 200 minutes to hours by diving by 60.\n",
    "minutes = 200\n",
    "hours = minutes / 60\n",
    "print(hours)\n"
   ]
  },
  {
   "cell_type": "markdown",
   "id": "e98375f6",
   "metadata": {},
   "source": [
    "**Objectives:** \n",
    "\n",
    "- List popular languages for Data Science.\n",
    "- Introduce common Data Science tools and their applications.\n",
    "- Explore arithmetic expressions and their evaluation in Python.\n"
   ]
  },
  {
   "cell_type": "markdown",
   "id": "2d687183",
   "metadata": {},
   "source": [
    "## Author\n",
    "Aniruddha Roy\n"
   ]
  },
  {
   "cell_type": "code",
   "execution_count": null,
   "id": "cfea0ed8",
   "metadata": {},
   "outputs": [],
   "source": []
  }
 ],
 "metadata": {
  "kernelspec": {
   "display_name": "Python 3 (ipykernel)",
   "language": "python",
   "name": "python3"
  },
  "language_info": {
   "codemirror_mode": {
    "name": "ipython",
    "version": 3
   },
   "file_extension": ".py",
   "mimetype": "text/x-python",
   "name": "python",
   "nbconvert_exporter": "python",
   "pygments_lexer": "ipython3",
   "version": "3.9.13"
  }
 },
 "nbformat": 4,
 "nbformat_minor": 5
}
